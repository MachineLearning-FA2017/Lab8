{
 "cells": [
  {
   "cell_type": "markdown",
   "metadata": {},
   "source": [
    "## Lab Assignment Eight: Exploring Image Data\n",
    "## Rupal Sanghavi, Omar Roa"
   ]
  },
  {
   "cell_type": "code",
   "execution_count": null,
   "metadata": {
    "collapsed": true
   },
   "outputs": [],
   "source": [
    "from sklearn import datasets as ds\n",
    "import pandas as pd\n",
    "import numpy as np\n",
    "import os, os.path\n",
    "import mpl_toolkits.mplot3d.axes3d as p3\n",
    "import matplotlib.pyplot as plt\n",
    "import colorsys\n",
    "import copy\n",
    "from PIL import Image\n",
    "\n",
    "from sklearn.decomposition import KernelPCA\n",
    "import zipfile\n",
    "\n",
    "import skimage\n",
    "from skimage import io\n",
    "\n",
    "from skimage.transform import resize\n",
    "from random import shuffle\n",
    "import seaborn as sns"
   ]
  },
  {
   "cell_type": "markdown",
   "metadata": {},
   "source": [
    "We are using a dataset from a Kaggle competition. The Nature Conservancy, whose mission is to \"conserve the lands and waters on which all life depends.\" hopes we can detect which species of fish appears on a fishing boat, based on images captured from boat cameras at different angles. \n",
    "\n",
    "We eventually want to predict the likelihood of a fish species in a picture.\n",
    "\n",
    "There are eight target categories in the dataset: Albacore tuna, Bigeye tuna, Yellowfin tuna, Mahi Mahi, Opah, Sharks, Other (meaning that there are fish present but not in the above categories), and No Fish (meaning that no fish is in the picture).\n",
    "\n",
    "The images have only one fish in them, except small fishses (bait) are included with the fish to be identified.\n",
    "This data is important because it can help with illegal fishing. The tuna in the data set are often illegally caught and unreported. The Nature Conservancy, in addition with other organizations, are creating a system of cameras that will scan a boat's catch and detect illegally caught fish. If we are able to accurately predict the fish we can aid in these efforts and reduce illegal fishing.\n",
    "We know we will have gathered important information from this data set if we are able to detect the correct fish with an accuracy rate of over 80%. We found a paper where their accuracy was around 85% http://homepages.inf.ed.ac.uk/rbf/PAPERS/FinalCameraReadyVISAPP08.pdf but we will have to take into account images without fish, people or large objects appearing, and inclement weather. If we can achieve 80%, it would be a great foundation to build on. There will still be boats patrolling for illegal fishing. They will be able to personally look on the boat or the image for illegal fish if need be."
   ]
  },
  {
   "cell_type": "markdown",
   "metadata": {},
   "source": [
    "# Data Preparation"
   ]
  },
  {
   "cell_type": "markdown",
   "metadata": {},
   "source": [
    "### Read Data as Numpy Arrays, Resize, and Recolor Black and White"
   ]
  },
  {
   "cell_type": "code",
   "execution_count": null,
   "metadata": {
    "collapsed": true
   },
   "outputs": [],
   "source": [
    "igs = np.array([skimage.transform.resize(skimage.io.imread(fname, as_grey=True, plugin=None, flatten=None),(300,300))\n",
    "                                         for fname in fish_image_files])"
   ]
  },
  {
   "cell_type": "markdown",
   "metadata": {},
   "source": [
    "### Linearize and Visualize Images"
   ]
  },
  {
   "cell_type": "code",
   "execution_count": null,
   "metadata": {
    "collapsed": true
   },
   "outputs": [],
   "source": []
  }
 ],
 "metadata": {
  "kernelspec": {
   "display_name": "Python 2",
   "language": "python",
   "name": "python2"
  },
  "language_info": {
   "codemirror_mode": {
    "name": "ipython",
    "version": 2
   },
   "file_extension": ".py",
   "mimetype": "text/x-python",
   "name": "python",
   "nbconvert_exporter": "python",
   "pygments_lexer": "ipython2",
   "version": "2.7.11"
  }
 },
 "nbformat": 4,
 "nbformat_minor": 2
}
